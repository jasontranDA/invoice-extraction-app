{
 "cells": [
  {
   "cell_type": "markdown",
   "metadata": {},
   "source": [
    "# Building an AI-Powered Invoice Extraction Tool\n",
    "*Created by Thu Vu for the Python for AI Projects course.*\n",
    "\n",
    "*Date: 20 January, 2025*\n",
    "\n",
    "👋 Welcome to another hands-on project!\n",
    "\n",
    "🎯 In this project, we’ll explore how to use a **Retrieval-Augmented Generation (RAG) framework** to extract structured information from business invoices. We’ll walk through the **RAG pipeline** step by step to process and extract key invoice details such as invoice date, client name, total amount.\n",
    "\n",
    "🛠️ Tools we'll be using:\n",
    "\n",
    "- **Langchain**: It's framework for developing applications powered by language models. Read more about [Langchain](https://python.langchain.com/docs/get_started/introduction) here. \n",
    "\n",
    "- **Local language model (Llama3.2 via [Ollama](https://ollama.com/)):** Using local models is more secure for private data, such as the invoices in this case.\n",
    "\n",
    "- **Streamlit**: We’ll finally bring everything together in an user-friendly, interactive ** Streamlit application**, allowing users to upload multiple invoices and view the extracted data in a structured table format. \n",
    "\n",
    "Let's get started! 👊"
   ]
  },
  {
   "cell_type": "markdown",
   "metadata": {},
   "source": [
    "### Overview of a Vanilla Retrieval Augmented Generation (RAG) Pipeline\n",
    "\n",
    "If you followed the last video lesson on RAG, this framework should look farmiliar to you.\n",
    "\n",
    "<img src=\"RAG_deepdive.png\" width=800 />"
   ]
  },
  {
   "cell_type": "markdown",
   "metadata": {},
   "source": [
    "## Install and import necessary modules\n",
    "\n",
    "If you haven't yet installed the required packages, please run in a notebook cell the following magic command:\n",
    "\n",
    "`!pip3 install --upgrade --quiet langchain langchain-community langchain_ollama chromadb pandas streamlit pypdf`"
   ]
  },
  {
   "cell_type": "code",
   "execution_count": 1,
   "metadata": {},
   "outputs": [],
   "source": [
    "!pip3 install --upgrade --quiet langchain langchain-community langchain_ollama chromadb pandas streamlit pypdf"
   ]
  },
  {
   "cell_type": "code",
   "execution_count": 2,
   "metadata": {},
   "outputs": [],
   "source": [
    "# Import Langchain modules\n",
    "from langchain.document_loaders import PyPDFLoader\n",
    "from langchain.text_splitter import RecursiveCharacterTextSplitter\n",
    "from langchain.vectorstores import Chroma\n",
    "from langchain_core.runnables import RunnablePassthrough\n",
    "from langchain_core.prompts import ChatPromptTemplate\n",
    "from pydantic import BaseModel, Field\n",
    "from langchain_ollama import ChatOllama\n",
    "from langchain_community.embeddings import OllamaEmbeddings\n",
    "\n",
    "# Other modules and packages\n",
    "import streamlit as st  \n",
    "import pandas as pd\n",
    "\n",
    "import uuid\n",
    "import re\n",
    "import os\n",
    "import tempfile"
   ]
  },
  {
   "cell_type": "markdown",
   "metadata": {},
   "source": [
    "## Define our LLM\n",
    "\n",
    "We'll be using Llama3.2, which is an open-source LLM developed by Meta. \n",
    "\n",
    "✅👉 Since we're accessing the model using Ollama, **please make sure you have opened Ollama in your computer** and have it running in the background when running the cell below."
   ]
  },
  {
   "cell_type": "code",
   "execution_count": 3,
   "metadata": {},
   "outputs": [
    {
     "data": {
      "text/plain": [
       "AIMessage(content='Why did the coffee file a police report?\\n\\nBecause it got mugged!', additional_kwargs={}, response_metadata={'model': 'llama3.2', 'created_at': '2025-01-27T15:11:08.656243Z', 'done': True, 'done_reason': 'stop', 'total_duration': 4569981791, 'load_duration': 836568000, 'prompt_eval_count': 31, 'prompt_eval_duration': 3426000000, 'eval_count': 16, 'eval_duration': 305000000, 'message': Message(role='assistant', content='', images=None, tool_calls=None)}, id='run-7a9d2788-ce80-4ed2-aa24-6a359eea15a0-0', usage_metadata={'input_tokens': 31, 'output_tokens': 16, 'total_tokens': 47})"
      ]
     },
     "execution_count": 3,
     "metadata": {},
     "output_type": "execute_result"
    }
   ],
   "source": [
    "llm = ChatOllama(model='llama3.2', temperature=0)\n",
    "llm.invoke(\"Tell me a joke about coffee\")"
   ]
  },
  {
   "cell_type": "markdown",
   "metadata": {},
   "source": [
    "## 1. Ingestion Pipeline"
   ]
  },
  {
   "cell_type": "markdown",
   "metadata": {},
   "source": [
    "### Load PDF document\n",
    "\n",
    "We'll be using the PyPDFLoader module to load the text in the invoice documents. \n",
    "\n",
    "After running this, we get back a list of Document objects, each of them represent a page in the PDF, with the metadata and page content."
   ]
  },
  {
   "cell_type": "code",
   "execution_count": 4,
   "metadata": {},
   "outputs": [
    {
     "data": {
      "text/plain": [
       "[Document(metadata={'source': 'data/invoice_ABC_consulting.pdf', 'page': 0, 'page_label': '1'}, page_content='Business Invoice\\nBusiness Name: ABC Consulting Ltd.\\nAddress: 123 Main Street, City, Country\\nEmail: contact@abcconsulting.com\\nPhone: +123 456 7890\\nBill To:\\nClient Name: XYZ Corporation\\nAddress: 456 Market Street, City, Country\\nEmail: finance@xyzcorp.com\\nPhone: +987 654 3210\\nInvoice Number: INV-2025001\\nInvoice Date: January 24, 2025\\nDue Date: February 7, 2025\\nDescription Quantity Unit Price Total\\nConsulting Services - January 10 $50.00 $500.00\\nData Analysis Report 1 $300.00 $300.00\\nSoftware License 2 $150.00 $300.00\\nSubtotal: $1100.00\\nTax (10%): $110.00\\nTotal: $1210.00\\nPayment Instructions:\\nPage 1'),\n",
       " Document(metadata={'source': 'data/invoice_ABC_consulting.pdf', 'page': 1, 'page_label': '2'}, page_content='Business Invoice\\nBank: ABC Bank\\nAccount No: 123456789\\nSWIFT: ABCD1234\\nPayment Due by February 7, 2025\\nPage 2')]"
      ]
     },
     "execution_count": 4,
     "metadata": {},
     "output_type": "execute_result"
    }
   ],
   "source": [
    "FILE_NAME = \"invoice_ABC_consulting.pdf\"\n",
    "\n",
    "loader = PyPDFLoader(\"data/\"+ FILE_NAME)\n",
    "pages = loader.load()\n",
    "pages"
   ]
  },
  {
   "cell_type": "markdown",
   "metadata": {},
   "source": [
    "### Split document into smaller chunks (optional in this case)\n",
    "\n",
    "Chunking is option for small PDF files like the invoices in this case."
   ]
  },
  {
   "cell_type": "code",
   "execution_count": 5,
   "metadata": {},
   "outputs": [],
   "source": [
    "text_splitter = RecursiveCharacterTextSplitter(chunk_size=1500,\n",
    "                                            chunk_overlap=200,\n",
    "                                            length_function=len,\n",
    "                                            separators=[\"\\n\\n\", \"\\n\", \" \"])\n",
    "chunks = text_splitter.split_documents(pages)"
   ]
  },
  {
   "cell_type": "code",
   "execution_count": 6,
   "metadata": {},
   "outputs": [
    {
     "data": {
      "text/plain": [
       "[Document(metadata={'source': 'data/invoice_ABC_consulting.pdf', 'page': 0, 'page_label': '1'}, page_content='Business Invoice\\nBusiness Name: ABC Consulting Ltd.\\nAddress: 123 Main Street, City, Country\\nEmail: contact@abcconsulting.com\\nPhone: +123 456 7890\\nBill To:\\nClient Name: XYZ Corporation\\nAddress: 456 Market Street, City, Country\\nEmail: finance@xyzcorp.com\\nPhone: +987 654 3210\\nInvoice Number: INV-2025001\\nInvoice Date: January 24, 2025\\nDue Date: February 7, 2025\\nDescription Quantity Unit Price Total\\nConsulting Services - January 10 $50.00 $500.00\\nData Analysis Report 1 $300.00 $300.00\\nSoftware License 2 $150.00 $300.00\\nSubtotal: $1100.00\\nTax (10%): $110.00\\nTotal: $1210.00\\nPayment Instructions:\\nPage 1'),\n",
       " Document(metadata={'source': 'data/invoice_ABC_consulting.pdf', 'page': 1, 'page_label': '2'}, page_content='Business Invoice\\nBank: ABC Bank\\nAccount No: 123456789\\nSWIFT: ABCD1234\\nPayment Due by February 7, 2025\\nPage 2')]"
      ]
     },
     "execution_count": 6,
     "metadata": {},
     "output_type": "execute_result"
    }
   ],
   "source": [
    "chunks"
   ]
  },
  {
   "cell_type": "markdown",
   "metadata": {},
   "source": [
    "### Create embeddings"
   ]
  },
  {
   "cell_type": "code",
   "execution_count": 7,
   "metadata": {},
   "outputs": [
    {
     "name": "stderr",
     "output_type": "stream",
     "text": [
      "/var/folders/2t/5c_z4g5j7z77jprgswwd1htr0000gn/T/ipykernel_88442/3696726880.py:2: LangChainDeprecationWarning: The class `OllamaEmbeddings` was deprecated in LangChain 0.3.1 and will be removed in 1.0.0. An updated version of the class exists in the :class:`~langchain-ollama package and should be used instead. To use it run `pip install -U :class:`~langchain-ollama` and import as `from :class:`~langchain_ollama import OllamaEmbeddings``.\n",
      "  embeddings = OllamaEmbeddings(model=\"nomic-embed-text\",show_progress=False)\n"
     ]
    }
   ],
   "source": [
    "def get_embedding_function():\n",
    "    embeddings = OllamaEmbeddings(model=\"nomic-embed-text\",show_progress=False)\n",
    "    return embeddings\n",
    "\n",
    "embedding_function = get_embedding_function()\n",
    "test_vector = embedding_function.embed_query(\"cat\")"
   ]
  },
  {
   "cell_type": "markdown",
   "metadata": {},
   "source": [
    "### Create vector database\n",
    "\n",
    "We'll be using ChromaDB for this project, which is an open source vector database, it’s fast and simple to use. But it’s not the only option, there’s a lot of other vector databases that do the pretty much the same thing. "
   ]
  },
  {
   "cell_type": "code",
   "execution_count": 9,
   "metadata": {},
   "outputs": [],
   "source": [
    "# Create vectorstore\n",
    "vectorstore = Chroma.from_documents(documents=chunks, \n",
    "                                    embedding=embedding_function, \n",
    "                                    persist_directory = \"test_vectorstore\",\n",
    "                                    collection_name = FILE_NAME)"
   ]
  },
  {
   "cell_type": "code",
   "execution_count": 10,
   "metadata": {},
   "outputs": [],
   "source": [
    "def create_vectorstore(chunks, embedding_function, file_name, vectorstore_path):\n",
    "\n",
    "    # Create a list of unique ids for each document based on the content\n",
    "    ids = [str(uuid.uuid5(uuid.NAMESPACE_DNS, doc.page_content)) for doc in chunks]\n",
    "    \n",
    "    # Ensure that only unique docs with unique ids are kept\n",
    "    unique_ids = set()\n",
    "    unique_chunks = []\n",
    "    \n",
    "    unique_chunks = [] \n",
    "    for chunk, id in zip(chunks, ids):     \n",
    "        if id not in unique_ids:       \n",
    "            unique_ids.add(id)\n",
    "            unique_chunks.append(chunk) \n",
    "\n",
    "    # Create a new Chroma database from the documents\n",
    "    vectorstore = Chroma.from_documents(documents=unique_chunks, \n",
    "                                        ids=list(unique_ids),\n",
    "                                        embedding=embedding_function, \n",
    "                                        persist_directory = vectorstore_path,\n",
    "                                        collection_name = file_name)\n",
    "\n",
    "    vectorstore.persist()\n",
    "    \n",
    "    return vectorstore"
   ]
  },
  {
   "cell_type": "code",
   "execution_count": 11,
   "metadata": {},
   "outputs": [
    {
     "name": "stderr",
     "output_type": "stream",
     "text": [
      "/var/folders/2t/5c_z4g5j7z77jprgswwd1htr0000gn/T/ipykernel_88442/580109814.py:23: LangChainDeprecationWarning: Since Chroma 0.4.x the manual persistence method is no longer supported as docs are automatically persisted.\n",
      "  vectorstore.persist()\n"
     ]
    }
   ],
   "source": [
    "# Create vectorstore\n",
    "vectorstore = create_vectorstore(chunks=chunks, \n",
    "                                 embedding_function=embedding_function, \n",
    "                                 file_name=FILE_NAME,\n",
    "                                 vectorstore_path=\"vectorstore\")"
   ]
  },
  {
   "cell_type": "markdown",
   "metadata": {},
   "source": [
    "## 2. Retrieval Pipeline \n",
    "Here we are querying for relevant data chunks from the vector database based on their similarity to a user question."
   ]
  },
  {
   "cell_type": "code",
   "execution_count": 12,
   "metadata": {},
   "outputs": [],
   "source": [
    "# Create retriever\n",
    "retriever = vectorstore.as_retriever(search_type=\"similarity\")"
   ]
  },
  {
   "cell_type": "code",
   "execution_count": 13,
   "metadata": {},
   "outputs": [
    {
     "name": "stderr",
     "output_type": "stream",
     "text": [
      "Number of requested results 4 is greater than number of elements in index 2, updating n_results = 2\n"
     ]
    },
    {
     "data": {
      "text/plain": [
       "[Document(metadata={'page': 0, 'page_label': '1', 'source': 'data/invoice_ABC_consulting.pdf'}, page_content='Business Invoice\\nBusiness Name: ABC Consulting Ltd.\\nAddress: 123 Main Street, City, Country\\nEmail: contact@abcconsulting.com\\nPhone: +123 456 7890\\nBill To:\\nClient Name: XYZ Corporation\\nAddress: 456 Market Street, City, Country\\nEmail: finance@xyzcorp.com\\nPhone: +987 654 3210\\nInvoice Number: INV-2025001\\nInvoice Date: January 24, 2025\\nDue Date: February 7, 2025\\nDescription Quantity Unit Price Total\\nConsulting Services - January 10 $50.00 $500.00\\nData Analysis Report 1 $300.00 $300.00\\nSoftware License 2 $150.00 $300.00\\nSubtotal: $1100.00\\nTax (10%): $110.00\\nTotal: $1210.00\\nPayment Instructions:\\nPage 1'),\n",
       " Document(metadata={'page': 1, 'page_label': '2', 'source': 'data/invoice_ABC_consulting.pdf'}, page_content='Business Invoice\\nBank: ABC Bank\\nAccount No: 123456789\\nSWIFT: ABCD1234\\nPayment Due by February 7, 2025\\nPage 2')]"
      ]
     },
     "execution_count": 13,
     "metadata": {},
     "output_type": "execute_result"
    }
   ],
   "source": [
    "# Get relevant chunks for a question\n",
    "relevant_chunks = retriever.invoke(\"What is the client name in this invoice?\")\n",
    "relevant_chunks"
   ]
  },
  {
   "cell_type": "code",
   "execution_count": 14,
   "metadata": {},
   "outputs": [],
   "source": [
    "# Prompt template\n",
    "PROMPT_TEMPLATE = \"\"\"\n",
    "You are an assistant for question-answering tasks.\n",
    "Use the following pieces of retrieved context to answer\n",
    "the question. If you don't know the answer, say that you\n",
    "don't know. DON'T MAKE UP ANYTHING.\n",
    "\n",
    "{context}\n",
    "\n",
    "---\n",
    "\n",
    "Answer the question based on the above context: {question}\n",
    "\"\"\"\n",
    "\n",
    "prompt_template = ChatPromptTemplate.from_template(PROMPT_TEMPLATE)"
   ]
  },
  {
   "cell_type": "markdown",
   "metadata": {},
   "source": [
    "## 3. Generation Pipeline\n",
    "\n",
    "Here, we will pass our full prompt (including context + question) through the LLM the generate an answer."
   ]
  },
  {
   "cell_type": "markdown",
   "metadata": {},
   "source": [
    "### Manual process"
   ]
  },
  {
   "cell_type": "code",
   "execution_count": 15,
   "metadata": {},
   "outputs": [
    {
     "name": "stdout",
     "output_type": "stream",
     "text": [
      "Human: \n",
      "You are an assistant for question-answering tasks.\n",
      "Use the following pieces of retrieved context to answer\n",
      "the question. If you don't know the answer, say that you\n",
      "don't know. DON'T MAKE UP ANYTHING.\n",
      "\n",
      "Business Invoice\n",
      "Business Name: ABC Consulting Ltd.\n",
      "Address: 123 Main Street, City, Country\n",
      "Email: contact@abcconsulting.com\n",
      "Phone: +123 456 7890\n",
      "Bill To:\n",
      "Client Name: XYZ Corporation\n",
      "Address: 456 Market Street, City, Country\n",
      "Email: finance@xyzcorp.com\n",
      "Phone: +987 654 3210\n",
      "Invoice Number: INV-2025001\n",
      "Invoice Date: January 24, 2025\n",
      "Due Date: February 7, 2025\n",
      "Description Quantity Unit Price Total\n",
      "Consulting Services - January 10 $50.00 $500.00\n",
      "Data Analysis Report 1 $300.00 $300.00\n",
      "Software License 2 $150.00 $300.00\n",
      "Subtotal: $1100.00\n",
      "Tax (10%): $110.00\n",
      "Total: $1210.00\n",
      "Payment Instructions:\n",
      "Page 1\n",
      "\n",
      "Business Invoice\n",
      "Bank: ABC Bank\n",
      "Account No: 123456789\n",
      "SWIFT: ABCD1234\n",
      "Payment Due by February 7, 2025\n",
      "Page 2\n",
      "\n",
      "---\n",
      "\n",
      "Answer the question based on the above context: What is the client name in this invoice?\n",
      "\n"
     ]
    }
   ],
   "source": [
    "# Concatenate context text\n",
    "context_text = \"\\n\\n\".join(doc.page_content for doc in relevant_chunks)\n",
    "\n",
    "# Create prompt\n",
    "prompt = prompt_template.format(context=context_text, \n",
    "                                question=\"What is the client name in this invoice?\")\n",
    "print(prompt)"
   ]
  },
  {
   "cell_type": "code",
   "execution_count": 16,
   "metadata": {},
   "outputs": [
    {
     "data": {
      "text/plain": [
       "AIMessage(content='The client name in this invoice is XYZ Corporation.', additional_kwargs={}, response_metadata={'model': 'llama3.2', 'created_at': '2025-01-27T15:46:18.927194Z', 'done': True, 'done_reason': 'stop', 'total_duration': 5065195292, 'load_duration': 828002750, 'prompt_eval_count': 326, 'prompt_eval_duration': 4024000000, 'eval_count': 11, 'eval_duration': 211000000, 'message': Message(role='assistant', content='', images=None, tool_calls=None)}, id='run-0c72adde-e571-43ba-a123-703eb77ab85a-0', usage_metadata={'input_tokens': 326, 'output_tokens': 11, 'total_tokens': 337})"
      ]
     },
     "execution_count": 16,
     "metadata": {},
     "output_type": "execute_result"
    }
   ],
   "source": [
    "llm.invoke(prompt)"
   ]
  },
  {
   "cell_type": "markdown",
   "metadata": {},
   "source": [
    "### Using Langchain Expression Language"
   ]
  },
  {
   "cell_type": "code",
   "execution_count": 17,
   "metadata": {},
   "outputs": [],
   "source": [
    "def format_docs(docs):\n",
    "    return \"\\n\\n\".join(doc.page_content for doc in docs)"
   ]
  },
  {
   "cell_type": "code",
   "execution_count": 18,
   "metadata": {},
   "outputs": [
    {
     "name": "stderr",
     "output_type": "stream",
     "text": [
      "Number of requested results 4 is greater than number of elements in index 2, updating n_results = 2\n"
     ]
    },
    {
     "data": {
      "text/plain": [
       "AIMessage(content='Here are the relevant details extracted from the business invoice:\\n\\n- Business Name: ABC Consulting Ltd.\\n- Address: 123 Main Street, City, Country\\n- Email: contact@abcconsulting.com\\n- Phone: +123 456 7890\\n- Bill To:\\n  - Client Name: XYZ Corporation\\n  - Address: 456 Market Street, City, Country\\n  - Email: finance@xyzcorp.com\\n  - Phone: +987 654 3210\\n- Invoice Number: INV-2025001\\n- Invoice Date: January 24, 2025\\n- Due Date: February 7, 2025\\n- Description and quantities:\\n  - Consulting Services - January 10\\n  - Data Analysis Report 1\\n  - Software License 2\\n- Subtotal: $1100.00\\n- Tax (10%): $110.00\\n- Total: $1210.00\\n- Payment Instructions:\\n  - Bank: ABC Bank\\n  - Account No: 123456789\\n  - SWIFT: ABCD1234\\n  - Payment Due by February 7, 2025', additional_kwargs={}, response_metadata={'model': 'llama3.2', 'created_at': '2025-01-27T15:50:55.716175Z', 'done': True, 'done_reason': 'stop', 'total_duration': 7999007208, 'load_duration': 22520375, 'prompt_eval_count': 322, 'prompt_eval_duration': 2721000000, 'eval_count': 236, 'eval_duration': 5228000000, 'message': Message(role='assistant', content='', images=None, tool_calls=None)}, id='run-b2e4fd8c-734f-41e4-bb25-85994dc0fe16-0', usage_metadata={'input_tokens': 322, 'output_tokens': 236, 'total_tokens': 558})"
      ]
     },
     "execution_count": 18,
     "metadata": {},
     "output_type": "execute_result"
    }
   ],
   "source": [
    "rag_chain = (\n",
    "            {\"context\": retriever | format_docs, \"question\": RunnablePassthrough()}\n",
    "            | prompt_template\n",
    "            | llm\n",
    "        )\n",
    "rag_chain.invoke(\"Extract relevant details from this business invoice\")"
   ]
  },
  {
   "cell_type": "markdown",
   "metadata": {},
   "source": [
    "### Generate structured responses"
   ]
  },
  {
   "cell_type": "code",
   "execution_count": 19,
   "metadata": {},
   "outputs": [],
   "source": [
    "class ExtractedInfo(BaseModel):\n",
    "    \"\"\"Extracted information from the invoice document\"\"\"\n",
    "    invoice_items: str =  Field(description=\"Extract invoice items\")\n",
    "    invoice_date: str =  Field(description=\"Extract invoice date\")\n",
    "    business_name: str =  Field(description=\"Extract business name\")\n",
    "    total_amount: str =  Field(description=\"Extract total amount\")"
   ]
  },
  {
   "cell_type": "code",
   "execution_count": 20,
   "metadata": {},
   "outputs": [],
   "source": [
    "rag_chain = (\n",
    "            {\"context\": retriever | format_docs, \"question\": RunnablePassthrough()}\n",
    "            | prompt_template\n",
    "            | llm.with_structured_output(ExtractedInfo)\n",
    "        )"
   ]
  },
  {
   "cell_type": "code",
   "execution_count": 21,
   "metadata": {},
   "outputs": [
    {
     "name": "stderr",
     "output_type": "stream",
     "text": [
      "Number of requested results 4 is greater than number of elements in index 2, updating n_results = 2\n"
     ]
    },
    {
     "data": {
      "text/plain": [
       "ExtractedInfo(invoice_items='Consulting Services - January 10, Data Analysis Report 1, Software License 2', invoice_date='January 24, 2025', business_name='ABC Consulting Ltd.', total_amount='$1210.00')"
      ]
     },
     "execution_count": 21,
     "metadata": {},
     "output_type": "execute_result"
    }
   ],
   "source": [
    "# Generate structured response\n",
    "structured_response = rag_chain.invoke(\"Extract relevant details from this business invoice.\")\n",
    "structured_response"
   ]
  },
  {
   "cell_type": "markdown",
   "metadata": {},
   "source": [
    "### Transform response into a dataframe"
   ]
  },
  {
   "cell_type": "code",
   "execution_count": 22,
   "metadata": {},
   "outputs": [
    {
     "data": {
      "text/html": [
       "<div>\n",
       "<style scoped>\n",
       "    .dataframe tbody tr th:only-of-type {\n",
       "        vertical-align: middle;\n",
       "    }\n",
       "\n",
       "    .dataframe tbody tr th {\n",
       "        vertical-align: top;\n",
       "    }\n",
       "\n",
       "    .dataframe thead th {\n",
       "        text-align: right;\n",
       "    }\n",
       "</style>\n",
       "<table border=\"1\" class=\"dataframe\">\n",
       "  <thead>\n",
       "    <tr style=\"text-align: right;\">\n",
       "      <th></th>\n",
       "      <th>Invoice Items</th>\n",
       "      <th>Invoice Date</th>\n",
       "      <th>Business Name</th>\n",
       "      <th>Total Amount</th>\n",
       "    </tr>\n",
       "  </thead>\n",
       "  <tbody>\n",
       "    <tr>\n",
       "      <th>0</th>\n",
       "      <td>Consulting Services - January 10, Data Analysi...</td>\n",
       "      <td>January 24, 2025</td>\n",
       "      <td>ABC Consulting Ltd.</td>\n",
       "      <td>$1210.00</td>\n",
       "    </tr>\n",
       "  </tbody>\n",
       "</table>\n",
       "</div>"
      ],
      "text/plain": [
       "                                       Invoice Items      Invoice Date  \\\n",
       "0  Consulting Services - January 10, Data Analysi...  January 24, 2025   \n",
       "\n",
       "         Business Name Total Amount  \n",
       "0  ABC Consulting Ltd.     $1210.00  "
      ]
     },
     "execution_count": 22,
     "metadata": {},
     "output_type": "execute_result"
    }
   ],
   "source": [
    "df = pd.DataFrame([{\n",
    "    \"Invoice Items\": structured_response.invoice_items,\n",
    "    \"Invoice Date\": structured_response.invoice_date,\n",
    "    \"Business Name\": structured_response.business_name,\n",
    "    \"Total Amount\": structured_response.total_amount,\n",
    "}])\n",
    "df"
   ]
  },
  {
   "cell_type": "markdown",
   "metadata": {},
   "source": [
    "## Conclusions\n",
    "\n",
    "Congratulations on successfully implementing your first RAG-powered invoice extraction system! 🎉\n",
    "\n",
    "In this tutorial, you have:\n",
    "\n",
    "✅ Built a Retrieval-Augmented Generation (RAG) pipeline to extract structured data from invoices.\n",
    "\n",
    "✅ Used LangChain to process documents efficiently.\n",
    "\n",
    "✅ Integrated a local LLM with Ollama for offline, cost-effective processing.\n",
    "\n",
    "✅ Developed a Streamlit web application for an interactive, user-friendly experience.\n",
    "\n",
    "💡If you're excited to adapt this project to other use cases, here are some inspiration:\n",
    "\n",
    "1. Automated Resume Screening – Extract key details from resumes and match them with job descriptions.\n",
    "2. Contract Clause Extraction – Identify and summarize important clauses from legal contracts.\n",
    "3. Expense Receipt Processing – Automate the extraction of transaction details from receipts for expense tracking.\n",
    "4. Medical Report Summarization – Convert lengthy medical reports into structured, digestible summaries.\n",
    "5. Customer Support Ticket Analysis – Categorize and extract key insights from support requests.\n",
    "\n",
    "\n",
    "**⚙️ Deploy this project**\n",
    "\n",
    "If you’d like to take this further and deploy this app, follow the deployment lessons in this course to launch your app using Streamlit Community Cloud or Docker for a scalable, production-ready solution."
   ]
  },
  {
   "cell_type": "markdown",
   "metadata": {},
   "source": []
  }
 ],
 "metadata": {
  "kernelspec": {
   "display_name": "myenv",
   "language": "python",
   "name": "python3"
  },
  "language_info": {
   "codemirror_mode": {
    "name": "ipython",
    "version": 3
   },
   "file_extension": ".py",
   "mimetype": "text/x-python",
   "name": "python",
   "nbconvert_exporter": "python",
   "pygments_lexer": "ipython3",
   "version": "3.12.4"
  }
 },
 "nbformat": 4,
 "nbformat_minor": 2
}
